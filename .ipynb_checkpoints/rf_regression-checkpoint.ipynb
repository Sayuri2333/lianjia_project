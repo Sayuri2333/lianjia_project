{
 "cells": [
  {
   "cell_type": "code",
   "execution_count": 7,
   "metadata": {},
   "outputs": [
    {
     "data": {
      "text/html": [
       "<div>\n",
       "<style scoped>\n",
       "    .dataframe tbody tr th:only-of-type {\n",
       "        vertical-align: middle;\n",
       "    }\n",
       "\n",
       "    .dataframe tbody tr th {\n",
       "        vertical-align: top;\n",
       "    }\n",
       "\n",
       "    .dataframe thead th {\n",
       "        text-align: right;\n",
       "    }\n",
       "</style>\n",
       "<table border=\"1\" class=\"dataframe\">\n",
       "  <thead>\n",
       "    <tr style=\"text-align: right;\">\n",
       "      <th></th>\n",
       "      <th>totalprice</th>\n",
       "      <th>unitprice</th>\n",
       "      <th>position</th>\n",
       "      <th>rooms</th>\n",
       "      <th>size</th>\n",
       "      <th>orientation</th>\n",
       "      <th>decoration</th>\n",
       "      <th>elevator</th>\n",
       "      <th>area</th>\n",
       "      <th>height</th>\n",
       "      <th>year</th>\n",
       "      <th>buildtype</th>\n",
       "      <th>follow</th>\n",
       "      <th>city</th>\n",
       "    </tr>\n",
       "  </thead>\n",
       "  <tbody>\n",
       "    <tr>\n",
       "      <th>0</th>\n",
       "      <td>920.0</td>\n",
       "      <td>77188</td>\n",
       "      <td>天悦龙庭二期</td>\n",
       "      <td>3室2厅</td>\n",
       "      <td>119.19</td>\n",
       "      <td>西南</td>\n",
       "      <td>精装</td>\n",
       "      <td>有电梯</td>\n",
       "      <td>宝安中心</td>\n",
       "      <td>中</td>\n",
       "      <td>2005</td>\n",
       "      <td>塔楼</td>\n",
       "      <td>13</td>\n",
       "      <td>宝安</td>\n",
       "    </tr>\n",
       "    <tr>\n",
       "      <th>1</th>\n",
       "      <td>340.0</td>\n",
       "      <td>51909</td>\n",
       "      <td>大益广场</td>\n",
       "      <td>2室2厅</td>\n",
       "      <td>65.50</td>\n",
       "      <td>西南</td>\n",
       "      <td>精装</td>\n",
       "      <td>有电梯</td>\n",
       "      <td>西乡</td>\n",
       "      <td>低</td>\n",
       "      <td>2002</td>\n",
       "      <td>板塔结合</td>\n",
       "      <td>160</td>\n",
       "      <td>宝安</td>\n",
       "    </tr>\n",
       "    <tr>\n",
       "      <th>2</th>\n",
       "      <td>660.0</td>\n",
       "      <td>73884</td>\n",
       "      <td>中熙香缇湾</td>\n",
       "      <td>4室2厅</td>\n",
       "      <td>89.33</td>\n",
       "      <td>西南</td>\n",
       "      <td>精装</td>\n",
       "      <td>有电梯</td>\n",
       "      <td>西乡</td>\n",
       "      <td>中</td>\n",
       "      <td>2009</td>\n",
       "      <td>板塔结合</td>\n",
       "      <td>226</td>\n",
       "      <td>宝安</td>\n",
       "    </tr>\n",
       "    <tr>\n",
       "      <th>3</th>\n",
       "      <td>1150.0</td>\n",
       "      <td>76657</td>\n",
       "      <td>深业新岸线三期</td>\n",
       "      <td>4室1厅</td>\n",
       "      <td>150.02</td>\n",
       "      <td>东南</td>\n",
       "      <td>精装</td>\n",
       "      <td>有电梯</td>\n",
       "      <td>宝安中心</td>\n",
       "      <td>中</td>\n",
       "      <td>2008</td>\n",
       "      <td>塔楼</td>\n",
       "      <td>29</td>\n",
       "      <td>宝安</td>\n",
       "    </tr>\n",
       "    <tr>\n",
       "      <th>4</th>\n",
       "      <td>570.0</td>\n",
       "      <td>52127</td>\n",
       "      <td>碧海富通城一期</td>\n",
       "      <td>3室2厅</td>\n",
       "      <td>109.35</td>\n",
       "      <td>南</td>\n",
       "      <td>精装</td>\n",
       "      <td>有电梯</td>\n",
       "      <td>碧海</td>\n",
       "      <td>中</td>\n",
       "      <td>2006</td>\n",
       "      <td>板塔结合</td>\n",
       "      <td>54</td>\n",
       "      <td>宝安</td>\n",
       "    </tr>\n",
       "  </tbody>\n",
       "</table>\n",
       "</div>"
      ],
      "text/plain": [
       "   totalprice  unitprice  position rooms    size orientation decoration  \\\n",
       "0       920.0      77188   天悦龙庭二期   3室2厅  119.19          西南         精装   \n",
       "1       340.0      51909     大益广场   2室2厅   65.50          西南         精装   \n",
       "2       660.0      73884    中熙香缇湾   4室2厅   89.33          西南         精装   \n",
       "3      1150.0      76657  深业新岸线三期   4室1厅  150.02          东南         精装   \n",
       "4       570.0      52127  碧海富通城一期   3室2厅  109.35           南         精装   \n",
       "\n",
       "  elevator  area height  year buildtype  follow city  \n",
       "0      有电梯  宝安中心      中  2005        塔楼      13   宝安  \n",
       "1      有电梯    西乡      低  2002      板塔结合     160   宝安  \n",
       "2      有电梯    西乡      中  2009      板塔结合     226   宝安  \n",
       "3      有电梯  宝安中心      中  2008        塔楼      29   宝安  \n",
       "4      有电梯    碧海      中  2006      板塔结合      54   宝安  "
      ]
     },
     "execution_count": 7,
     "metadata": {},
     "output_type": "execute_result"
    }
   ],
   "source": [
    "import pandas as pd\n",
    "import re\n",
    "import matplotlib.pyplot as plt\n",
    "import seaborn as sns\n",
    "import numpy as np\n",
    "sns.set_style('whitegrid')\n",
    "%matplotlib inline\n",
    "sns.set_context(\"paper\")\n",
    "\"\"\"数据加载\"\"\"\n",
    "house = pd.read_excel('house.xls', index_col=None)\n",
    "house=house[~house['height'].isin(['10层1994年建板', '11层2002年建板塔结合', '15层2003年建塔', '16层2002年建板塔结合',\n",
    "       '17层2003年建板塔结合', '1层2001年建板塔结合', '1层2013年建板', '1层2014年建板',\n",
    "       '20层2003年建塔', '21层2011年建板', '23层2011年建板', '26层2009年建板塔结合',\n",
    "       '27层2011年建板塔结合', '30层2010年建板', '32层2013年建板塔结合', '33层1996年建塔',\n",
    "       '6层1998年建板', '7层1993年建板', '8层2001年建板塔结合', '8层2009年建板塔结合',\n",
    "       '9层1997年建板塔结合', '9层2011年建板'])]\n",
    "house.head()"
   ]
  },
  {
   "cell_type": "code",
   "execution_count": 8,
   "metadata": {},
   "outputs": [
    {
     "data": {
      "text/html": [
       "<div>\n",
       "<style scoped>\n",
       "    .dataframe tbody tr th:only-of-type {\n",
       "        vertical-align: middle;\n",
       "    }\n",
       "\n",
       "    .dataframe tbody tr th {\n",
       "        vertical-align: top;\n",
       "    }\n",
       "\n",
       "    .dataframe thead th {\n",
       "        text-align: right;\n",
       "    }\n",
       "</style>\n",
       "<table border=\"1\" class=\"dataframe\">\n",
       "  <thead>\n",
       "    <tr style=\"text-align: right;\">\n",
       "      <th></th>\n",
       "      <th>main_room</th>\n",
       "      <th>sub_room</th>\n",
       "    </tr>\n",
       "  </thead>\n",
       "  <tbody>\n",
       "    <tr>\n",
       "      <th>0</th>\n",
       "      <td>3</td>\n",
       "      <td>2</td>\n",
       "    </tr>\n",
       "    <tr>\n",
       "      <th>1</th>\n",
       "      <td>2</td>\n",
       "      <td>2</td>\n",
       "    </tr>\n",
       "    <tr>\n",
       "      <th>2</th>\n",
       "      <td>4</td>\n",
       "      <td>2</td>\n",
       "    </tr>\n",
       "    <tr>\n",
       "      <th>3</th>\n",
       "      <td>4</td>\n",
       "      <td>1</td>\n",
       "    </tr>\n",
       "    <tr>\n",
       "      <th>4</th>\n",
       "      <td>3</td>\n",
       "      <td>2</td>\n",
       "    </tr>\n",
       "  </tbody>\n",
       "</table>\n",
       "</div>"
      ],
      "text/plain": [
       "   main_room  sub_room\n",
       "0          3         2\n",
       "1          2         2\n",
       "2          4         2\n",
       "3          4         1\n",
       "4          3         2"
      ]
     },
     "execution_count": 8,
     "metadata": {},
     "output_type": "execute_result"
    }
   ],
   "source": [
    "# 分割户型\n",
    "huxing_split = pd.DataFrame((re.split('[\"室\",\"厅\"]',x) for x in house.rooms),index=house.index,columns=['main_room','sub_room', 'a'])\n",
    "huxing_split.drop(['a'],axis=1,inplace=True)\n",
    "huxing_split['main_room']=pd.to_numeric(huxing_split['main_room'],errors='coerce')\n",
    "huxing_split['sub_room']=pd.to_numeric(huxing_split['sub_room'],errors='coerce')\n",
    "huxing_split.head()"
   ]
  },
  {
   "cell_type": "code",
   "execution_count": 9,
   "metadata": {},
   "outputs": [
    {
     "data": {
      "text/html": [
       "<div>\n",
       "<style scoped>\n",
       "    .dataframe tbody tr th:only-of-type {\n",
       "        vertical-align: middle;\n",
       "    }\n",
       "\n",
       "    .dataframe tbody tr th {\n",
       "        vertical-align: top;\n",
       "    }\n",
       "\n",
       "    .dataframe thead th {\n",
       "        text-align: right;\n",
       "    }\n",
       "</style>\n",
       "<table border=\"1\" class=\"dataframe\">\n",
       "  <thead>\n",
       "    <tr style=\"text-align: right;\">\n",
       "      <th></th>\n",
       "      <th>totalprice</th>\n",
       "      <th>unitprice</th>\n",
       "      <th>position</th>\n",
       "      <th>size</th>\n",
       "      <th>orientation</th>\n",
       "      <th>decoration</th>\n",
       "      <th>elevator</th>\n",
       "      <th>area</th>\n",
       "      <th>height</th>\n",
       "      <th>year</th>\n",
       "      <th>buildtype</th>\n",
       "      <th>follow</th>\n",
       "      <th>city</th>\n",
       "      <th>main_room</th>\n",
       "      <th>sub_room</th>\n",
       "    </tr>\n",
       "  </thead>\n",
       "  <tbody>\n",
       "    <tr>\n",
       "      <th>0</th>\n",
       "      <td>920.0</td>\n",
       "      <td>77188</td>\n",
       "      <td>天悦龙庭二期</td>\n",
       "      <td>119.19</td>\n",
       "      <td>西南</td>\n",
       "      <td>精装</td>\n",
       "      <td>有电梯</td>\n",
       "      <td>宝安中心</td>\n",
       "      <td>中</td>\n",
       "      <td>2005</td>\n",
       "      <td>塔楼</td>\n",
       "      <td>13</td>\n",
       "      <td>宝安</td>\n",
       "      <td>3</td>\n",
       "      <td>2</td>\n",
       "    </tr>\n",
       "    <tr>\n",
       "      <th>1</th>\n",
       "      <td>340.0</td>\n",
       "      <td>51909</td>\n",
       "      <td>大益广场</td>\n",
       "      <td>65.50</td>\n",
       "      <td>西南</td>\n",
       "      <td>精装</td>\n",
       "      <td>有电梯</td>\n",
       "      <td>西乡</td>\n",
       "      <td>低</td>\n",
       "      <td>2002</td>\n",
       "      <td>板塔结合</td>\n",
       "      <td>160</td>\n",
       "      <td>宝安</td>\n",
       "      <td>2</td>\n",
       "      <td>2</td>\n",
       "    </tr>\n",
       "    <tr>\n",
       "      <th>2</th>\n",
       "      <td>660.0</td>\n",
       "      <td>73884</td>\n",
       "      <td>中熙香缇湾</td>\n",
       "      <td>89.33</td>\n",
       "      <td>西南</td>\n",
       "      <td>精装</td>\n",
       "      <td>有电梯</td>\n",
       "      <td>西乡</td>\n",
       "      <td>中</td>\n",
       "      <td>2009</td>\n",
       "      <td>板塔结合</td>\n",
       "      <td>226</td>\n",
       "      <td>宝安</td>\n",
       "      <td>4</td>\n",
       "      <td>2</td>\n",
       "    </tr>\n",
       "    <tr>\n",
       "      <th>3</th>\n",
       "      <td>1150.0</td>\n",
       "      <td>76657</td>\n",
       "      <td>深业新岸线三期</td>\n",
       "      <td>150.02</td>\n",
       "      <td>东南</td>\n",
       "      <td>精装</td>\n",
       "      <td>有电梯</td>\n",
       "      <td>宝安中心</td>\n",
       "      <td>中</td>\n",
       "      <td>2008</td>\n",
       "      <td>塔楼</td>\n",
       "      <td>29</td>\n",
       "      <td>宝安</td>\n",
       "      <td>4</td>\n",
       "      <td>1</td>\n",
       "    </tr>\n",
       "    <tr>\n",
       "      <th>4</th>\n",
       "      <td>570.0</td>\n",
       "      <td>52127</td>\n",
       "      <td>碧海富通城一期</td>\n",
       "      <td>109.35</td>\n",
       "      <td>南</td>\n",
       "      <td>精装</td>\n",
       "      <td>有电梯</td>\n",
       "      <td>碧海</td>\n",
       "      <td>中</td>\n",
       "      <td>2006</td>\n",
       "      <td>板塔结合</td>\n",
       "      <td>54</td>\n",
       "      <td>宝安</td>\n",
       "      <td>3</td>\n",
       "      <td>2</td>\n",
       "    </tr>\n",
       "  </tbody>\n",
       "</table>\n",
       "</div>"
      ],
      "text/plain": [
       "   totalprice  unitprice  position    size orientation decoration elevator  \\\n",
       "0       920.0      77188   天悦龙庭二期   119.19          西南         精装      有电梯   \n",
       "1       340.0      51909     大益广场    65.50          西南         精装      有电梯   \n",
       "2       660.0      73884    中熙香缇湾    89.33          西南         精装      有电梯   \n",
       "3      1150.0      76657  深业新岸线三期   150.02          东南         精装      有电梯   \n",
       "4       570.0      52127  碧海富通城一期   109.35           南         精装      有电梯   \n",
       "\n",
       "   area height  year buildtype  follow city  main_room  sub_room  \n",
       "0  宝安中心      中  2005        塔楼      13   宝安          3         2  \n",
       "1    西乡      低  2002      板塔结合     160   宝安          2         2  \n",
       "2    西乡      中  2009      板塔结合     226   宝安          4         2  \n",
       "3  宝安中心      中  2008        塔楼      29   宝安          4         1  \n",
       "4    碧海      中  2006      板塔结合      54   宝安          3         2  "
      ]
     },
     "execution_count": 9,
     "metadata": {},
     "output_type": "execute_result"
    }
   ],
   "source": [
    "del house['rooms']\n",
    "house=pd.merge(house,huxing_split,right_index=True, left_index=True)\n",
    "house.head()"
   ]
  },
  {
   "cell_type": "code",
   "execution_count": 10,
   "metadata": {},
   "outputs": [],
   "source": [
    "#用来正常显示中文标签\n",
    "plt.rcParams['font.sans-serif'] = ['SimHei']\n",
    "#用来正常显示负号\n",
    "plt.rcParams['axes.unicode_minus'] = False"
   ]
  },
  {
   "cell_type": "code",
   "execution_count": 11,
   "metadata": {},
   "outputs": [
    {
     "name": "stderr",
     "output_type": "stream",
     "text": [
      "C:\\Users\\HASEE\\Anaconda3\\lib\\site-packages\\scipy\\stats\\stats.py:1713: FutureWarning: Using a non-tuple sequence for multidimensional indexing is deprecated; use `arr[tuple(seq)]` instead of `arr[seq]`. In the future this will be interpreted as an array index, `arr[np.array(seq)]`, which will result either in an error or a different result.\n",
      "  return np.add.reduce(sorted[indexer] * weights, axis=axis) / sumval\n"
     ]
    },
    {
     "data": {
      "image/png": "[encoded data removed]",
      "text/plain": [
       "<Figure size 432x288 with 1 Axes>"
      ]
     },
     "metadata": {
      "needs_background": "light"
     },
     "output_type": "display_data"
    }
   ],
   "source": [
    "sns.distplot(house['totalprice'])\n",
    "plt.savefig('总价分布.svg',format='svg')"
   ]
  },
  {
   "cell_type": "code",
   "execution_count": 12,
   "metadata": {},
   "outputs": [
    {
     "data": {
      "image/png": "[encoded data removed]",
      "text/plain": [
       "<Figure size 432x288 with 1 Axes>"
      ]
     },
     "metadata": {
      "needs_background": "light"
     },
     "output_type": "display_data"
    }
   ],
   "source": [
    "# 分析装修影响\n",
    "var = 'decoration'\n",
    "fig = sns.boxplot(x=house[var], y=house['totalprice'])\n",
    "fig.axis(ymin=0);\n",
    "plt.savefig('总价-装修.svg',format='svg')"
   ]
  },
  {
   "cell_type": "code",
   "execution_count": 13,
   "metadata": {},
   "outputs": [
    {
     "data": {
      "image/png": "[encoded data removed]",
      "text/plain": [
       "<Figure size 432x288 with 1 Axes>"
      ]
     },
     "metadata": {
      "needs_background": "light"
     },
     "output_type": "display_data"
    }
   ],
   "source": [
    "# 分析建筑类型影响\n",
    "var = 'buildtype'\n",
    "fig = sns.boxplot(x=house[var], y=house['totalprice'])\n",
    "fig.axis(ymin=0);\n",
    "plt.savefig('总价-建筑类型.svg',format='svg')"
   ]
  },
  {
   "cell_type": "code",
   "execution_count": 14,
   "metadata": {},
   "outputs": [
    {
     "data": {
      "image/png": "[encoded data removed]",
      "text/plain": [
       "<Figure size 432x288 with 1 Axes>"
      ]
     },
     "metadata": {
      "needs_background": "light"
     },
     "output_type": "display_data"
    }
   ],
   "source": [
    "# 分析电梯影响\n",
    "var = 'elevator'\n",
    "fig = sns.boxplot(x=house[var], y=house['totalprice'])\n",
    "fig.axis(ymin=0);\n",
    "plt.savefig('总价-电梯.svg',format='svg')"
   ]
  },
  {
   "cell_type": "code",
   "execution_count": 15,
   "metadata": {},
   "outputs": [
    {
     "data": {
      "image/png": "[encoded data removed]",
      "text/plain": [
       "<Figure size 432x288 with 1 Axes>"
      ]
     },
     "metadata": {
      "needs_background": "light"
     },
     "output_type": "display_data"
    }
   ],
   "source": [
    "# 分析楼高影响\n",
    "var = 'height'\n",
    "fig = sns.boxplot(x=house[var], y=house['totalprice'])\n",
    "fig.axis(ymin=0);\n",
    "plt.savefig('总价-高度.svg',format='svg')"
   ]
  },
  {
   "cell_type": "code",
   "execution_count": 16,
   "metadata": {},
   "outputs": [
    {
     "data": {
      "image/png": "[encoded data removed]",
      "text/plain": [
       "<Figure size 432x288 with 1 Axes>"
      ]
     },
     "metadata": {
      "needs_background": "light"
     },
     "output_type": "display_data"
    }
   ],
   "source": [
    "# 分析年份影响\n",
    "house.plot(x=\"year\", y=\"totalprice\", kind=\"scatter\")\n",
    "plt.savefig('总价-年份.svg',format='svg')"
   ]
  },
  {
   "cell_type": "code",
   "execution_count": 17,
   "metadata": {},
   "outputs": [
    {
     "data": {
      "image/png": "[encoded data removed]",
      "text/plain": [
       "<Figure size 432x288 with 1 Axes>"
      ]
     },
     "metadata": {
      "needs_background": "light"
     },
     "output_type": "display_data"
    }
   ],
   "source": [
    "# 分析城市影响\n",
    "var = 'city'\n",
    "fig = sns.boxplot(x=house[var], y=house['totalprice'])\n",
    "fig.axis(ymin=0);\n",
    "plt.savefig('总价-区域.svg',format='svg')"
   ]
  },
  {
   "cell_type": "code",
   "execution_count": 18,
   "metadata": {},
   "outputs": [
    {
     "data": {
      "image/png": "[encoded data removed]",
      "text/plain": [
       "<Figure size 432x288 with 1 Axes>"
      ]
     },
     "metadata": {
      "needs_background": "light"
     },
     "output_type": "display_data"
    }
   ],
   "source": [
    "# 分析面积影响\n",
    "house.plot(x=\"size\", y=\"totalprice\", kind=\"scatter\")\n",
    "plt.savefig('总价-面积.svg',format='svg')"
   ]
  },
  {
   "cell_type": "code",
   "execution_count": 19,
   "metadata": {},
   "outputs": [
    {
     "data": {
      "image/png": "[encoded data removed]",
      "text/plain": [
       "<Figure size 432x288 with 1 Axes>"
      ]
     },
     "metadata": {
      "needs_background": "light"
     },
     "output_type": "display_data"
    }
   ],
   "source": [
    "# 分析房间影响\n",
    "var = 'main_room'\n",
    "fig = sns.boxplot(x=house[var], y=house['totalprice'])\n",
    "fig.axis(ymin=0);\n",
    "plt.savefig('总价-房间数.svg',format='svg')"
   ]
  },
  {
   "cell_type": "code",
   "execution_count": 20,
   "metadata": {},
   "outputs": [
    {
     "data": {
      "image/png": "[encoded data removed]",
      "text/plain": [
       "<Figure size 432x288 with 1 Axes>"
      ]
     },
     "metadata": {
      "needs_background": "light"
     },
     "output_type": "display_data"
    }
   ],
   "source": [
    "# 分析客厅影响\n",
    "var = 'sub_room'\n",
    "fig = sns.boxplot(x=house[var], y=house['totalprice'])\n",
    "fig.axis(ymin=0);\n",
    "plt.savefig('总价-客厅数.svg',format='svg')"
   ]
  },
  {
   "cell_type": "code",
   "execution_count": 21,
   "metadata": {},
   "outputs": [
    {
     "data": {
      "image/png": "[encoded data removed]",
      "text/plain": [
       "<Figure size 1440x648 with 2 Axes>"
      ]
     },
     "metadata": {
      "needs_background": "light"
     },
     "output_type": "display_data"
    }
   ],
   "source": [
    "corrmat = house.corr()\n",
    "f, ax = plt.subplots(figsize=(20, 9))\n",
    "sns.heatmap(corrmat, vmax=0.8, square=True)\n",
    "plt.savefig('相关热力图.svg',format='svg')"
   ]
  },
  {
   "cell_type": "code",
   "execution_count": 22,
   "metadata": {},
   "outputs": [
    {
     "data": {
      "text/html": [
       "<div>\n",
       "<style scoped>\n",
       "    .dataframe tbody tr th:only-of-type {\n",
       "        vertical-align: middle;\n",
       "    }\n",
       "\n",
       "    .dataframe tbody tr th {\n",
       "        vertical-align: top;\n",
       "    }\n",
       "\n",
       "    .dataframe thead th {\n",
       "        text-align: right;\n",
       "    }\n",
       "</style>\n",
       "<table border=\"1\" class=\"dataframe\">\n",
       "  <thead>\n",
       "    <tr style=\"text-align: right;\">\n",
       "      <th></th>\n",
       "      <th>totalprice</th>\n",
       "    </tr>\n",
       "  </thead>\n",
       "  <tbody>\n",
       "    <tr>\n",
       "      <th>0</th>\n",
       "      <td>920.0</td>\n",
       "    </tr>\n",
       "    <tr>\n",
       "      <th>1</th>\n",
       "      <td>340.0</td>\n",
       "    </tr>\n",
       "    <tr>\n",
       "      <th>2</th>\n",
       "      <td>660.0</td>\n",
       "    </tr>\n",
       "    <tr>\n",
       "      <th>3</th>\n",
       "      <td>1150.0</td>\n",
       "    </tr>\n",
       "    <tr>\n",
       "      <th>4</th>\n",
       "      <td>570.0</td>\n",
       "    </tr>\n",
       "  </tbody>\n",
       "</table>\n",
       "</div>"
      ],
      "text/plain": [
       "   totalprice\n",
       "0       920.0\n",
       "1       340.0\n",
       "2       660.0\n",
       "3      1150.0\n",
       "4       570.0"
      ]
     },
     "execution_count": 22,
     "metadata": {},
     "output_type": "execute_result"
    }
   ],
   "source": [
    "# 切分总价\n",
    "totalprice = house['totalprice']\n",
    "totalprice = pd.DataFrame(totalprice)\n",
    "totalprice.head()"
   ]
  },
  {
   "cell_type": "code",
   "execution_count": 23,
   "metadata": {},
   "outputs": [
    {
     "data": {
      "text/html": [
       "<div>\n",
       "<style scoped>\n",
       "    .dataframe tbody tr th:only-of-type {\n",
       "        vertical-align: middle;\n",
       "    }\n",
       "\n",
       "    .dataframe tbody tr th {\n",
       "        vertical-align: top;\n",
       "    }\n",
       "\n",
       "    .dataframe thead th {\n",
       "        text-align: right;\n",
       "    }\n",
       "</style>\n",
       "<table border=\"1\" class=\"dataframe\">\n",
       "  <thead>\n",
       "    <tr style=\"text-align: right;\">\n",
       "      <th></th>\n",
       "      <th>size</th>\n",
       "      <th>elevator</th>\n",
       "      <th>height</th>\n",
       "      <th>year</th>\n",
       "      <th>buildtype</th>\n",
       "      <th>city</th>\n",
       "      <th>decoration</th>\n",
       "    </tr>\n",
       "  </thead>\n",
       "  <tbody>\n",
       "    <tr>\n",
       "      <th>0</th>\n",
       "      <td>119.19</td>\n",
       "      <td>有电梯</td>\n",
       "      <td>中</td>\n",
       "      <td>2005</td>\n",
       "      <td>塔楼</td>\n",
       "      <td>宝安</td>\n",
       "      <td>精装</td>\n",
       "    </tr>\n",
       "    <tr>\n",
       "      <th>1</th>\n",
       "      <td>65.50</td>\n",
       "      <td>有电梯</td>\n",
       "      <td>低</td>\n",
       "      <td>2002</td>\n",
       "      <td>板塔结合</td>\n",
       "      <td>宝安</td>\n",
       "      <td>精装</td>\n",
       "    </tr>\n",
       "    <tr>\n",
       "      <th>2</th>\n",
       "      <td>89.33</td>\n",
       "      <td>有电梯</td>\n",
       "      <td>中</td>\n",
       "      <td>2009</td>\n",
       "      <td>板塔结合</td>\n",
       "      <td>宝安</td>\n",
       "      <td>精装</td>\n",
       "    </tr>\n",
       "    <tr>\n",
       "      <th>3</th>\n",
       "      <td>150.02</td>\n",
       "      <td>有电梯</td>\n",
       "      <td>中</td>\n",
       "      <td>2008</td>\n",
       "      <td>塔楼</td>\n",
       "      <td>宝安</td>\n",
       "      <td>精装</td>\n",
       "    </tr>\n",
       "    <tr>\n",
       "      <th>4</th>\n",
       "      <td>109.35</td>\n",
       "      <td>有电梯</td>\n",
       "      <td>中</td>\n",
       "      <td>2006</td>\n",
       "      <td>板塔结合</td>\n",
       "      <td>宝安</td>\n",
       "      <td>精装</td>\n",
       "    </tr>\n",
       "    <tr>\n",
       "      <th>5</th>\n",
       "      <td>118.25</td>\n",
       "      <td>有电梯</td>\n",
       "      <td>中</td>\n",
       "      <td>2009</td>\n",
       "      <td>板塔结合</td>\n",
       "      <td>宝安</td>\n",
       "      <td>简装</td>\n",
       "    </tr>\n",
       "    <tr>\n",
       "      <th>6</th>\n",
       "      <td>30.87</td>\n",
       "      <td>有电梯</td>\n",
       "      <td>高</td>\n",
       "      <td>2009</td>\n",
       "      <td>板楼</td>\n",
       "      <td>宝安</td>\n",
       "      <td>精装</td>\n",
       "    </tr>\n",
       "    <tr>\n",
       "      <th>7</th>\n",
       "      <td>93.60</td>\n",
       "      <td>有电梯</td>\n",
       "      <td>高</td>\n",
       "      <td>2001</td>\n",
       "      <td>板塔结合</td>\n",
       "      <td>宝安</td>\n",
       "      <td>其他</td>\n",
       "    </tr>\n",
       "    <tr>\n",
       "      <th>8</th>\n",
       "      <td>50.62</td>\n",
       "      <td>有电梯</td>\n",
       "      <td>低</td>\n",
       "      <td>2007</td>\n",
       "      <td>板塔结合</td>\n",
       "      <td>宝安</td>\n",
       "      <td>其他</td>\n",
       "    </tr>\n",
       "    <tr>\n",
       "      <th>9</th>\n",
       "      <td>87.20</td>\n",
       "      <td>无电梯</td>\n",
       "      <td>中</td>\n",
       "      <td>1989</td>\n",
       "      <td>板楼</td>\n",
       "      <td>宝安</td>\n",
       "      <td>其他</td>\n",
       "    </tr>\n",
       "  </tbody>\n",
       "</table>\n",
       "</div>"
      ],
      "text/plain": [
       "     size elevator height  year buildtype city decoration\n",
       "0  119.19      有电梯      中  2005        塔楼   宝安         精装\n",
       "1   65.50      有电梯      低  2002      板塔结合   宝安         精装\n",
       "2   89.33      有电梯      中  2009      板塔结合   宝安         精装\n",
       "3  150.02      有电梯      中  2008        塔楼   宝安         精装\n",
       "4  109.35      有电梯      中  2006      板塔结合   宝安         精装\n",
       "5  118.25      有电梯      中  2009      板塔结合   宝安         简装\n",
       "6   30.87      有电梯      高  2009        板楼   宝安         精装\n",
       "7   93.60      有电梯      高  2001      板塔结合   宝安         其他\n",
       "8   50.62      有电梯      低  2007      板塔结合   宝安         其他\n",
       "9   87.20      无电梯      中  1989        板楼   宝安         其他"
      ]
     },
     "execution_count": 23,
     "metadata": {},
     "output_type": "execute_result"
    }
   ],
   "source": [
    "# 取X\n",
    "col = ['size', 'elevator', 'height', 'year', 'buildtype', 'city', 'decoration']\n",
    "X = pd.DataFrame(house, columns=col)\n",
    "X.head(10)"
   ]
  },
  {
   "cell_type": "code",
   "execution_count": 24,
   "metadata": {},
   "outputs": [
    {
     "data": {
      "text/plain": [
       "array([1, 1, 1, ..., 1, 1, 1], dtype=int64)"
      ]
     },
     "execution_count": 24,
     "metadata": {},
     "output_type": "execute_result"
    }
   ],
   "source": [
    "# 标签向量化-elevator\n",
    "import sklearn\n",
    "from sklearn import preprocessing\n",
    "le = preprocessing.LabelEncoder()\n",
    "elevator = X['elevator'].tolist()\n",
    "le.fit(elevator)\n",
    "elevator = le.transform(X['elevator'].tolist())\n",
    "elevator"
   ]
  },
  {
   "cell_type": "code",
   "execution_count": 25,
   "metadata": {},
   "outputs": [
    {
     "data": {
      "text/plain": [
       "array([3, 3, 3, ..., 0, 0, 0], dtype=int64)"
      ]
     },
     "execution_count": 25,
     "metadata": {},
     "output_type": "execute_result"
    }
   ],
   "source": [
    "# 标签向量化-decoration\n",
    "decoration = X['decoration'].tolist()\n",
    "le.fit(decoration)\n",
    "decoration = le.transform(X['decoration'].tolist())\n",
    "decoration"
   ]
  },
  {
   "cell_type": "code",
   "execution_count": 26,
   "metadata": {},
   "outputs": [
    {
     "data": {
      "text/plain": [
       "array([24, 21, 28, ..., 30, 25, 27], dtype=int64)"
      ]
     },
     "execution_count": 26,
     "metadata": {},
     "output_type": "execute_result"
    }
   ],
   "source": [
    "# 标签向量化-year\n",
    "year = X['year'].tolist()\n",
    "le.fit(year)\n",
    "year = le.transform(X['year'].tolist())\n",
    "year"
   ]
  },
  {
   "cell_type": "code",
   "execution_count": 27,
   "metadata": {},
   "outputs": [
    {
     "data": {
      "text/plain": [
       "array([0, 1, 0, ..., 2, 1, 0], dtype=int64)"
      ]
     },
     "execution_count": 27,
     "metadata": {},
     "output_type": "execute_result"
    }
   ],
   "source": [
    "# 标签向量化-height\n",
    "height = X['height'].tolist()\n",
    "le.fit(height)\n",
    "height = le.transform(X['height'].tolist())\n",
    "height"
   ]
  },
  {
   "cell_type": "code",
   "execution_count": 28,
   "metadata": {},
   "outputs": [
    {
     "data": {
      "text/plain": [
       "array([0, 1, 1, ..., 0, 2, 1], dtype=int64)"
      ]
     },
     "execution_count": 28,
     "metadata": {},
     "output_type": "execute_result"
    }
   ],
   "source": [
    "# 标签向量化-buildtype\n",
    "buildtype = X['buildtype'].tolist()\n",
    "le.fit(buildtype)\n",
    "buildtype = le.transform(X['buildtype'].tolist())\n",
    "buildtype"
   ]
  },
  {
   "cell_type": "code",
   "execution_count": 29,
   "metadata": {},
   "outputs": [
    {
     "data": {
      "text/plain": [
       "array([1, 1, 1, ..., 2, 2, 2], dtype=int64)"
      ]
     },
     "execution_count": 29,
     "metadata": {},
     "output_type": "execute_result"
    }
   ],
   "source": [
    "# 标签向量化-city\n",
    "city = X['city'].tolist()\n",
    "le.fit(city)\n",
    "city = le.transform(X['city'].tolist())\n",
    "city"
   ]
  },
  {
   "cell_type": "code",
   "execution_count": 30,
   "metadata": {},
   "outputs": [],
   "source": [
    "# 已经拆分\n",
    "# rooms = X['rooms'].tolist()\n",
    "# le.fit(rooms)\n",
    "# rooms = le.transform(X['rooms'].tolist())\n",
    "# rooms"
   ]
  },
  {
   "cell_type": "code",
   "execution_count": 31,
   "metadata": {},
   "outputs": [
    {
     "data": {
      "text/html": [
       "<div>\n",
       "<style scoped>\n",
       "    .dataframe tbody tr th:only-of-type {\n",
       "        vertical-align: middle;\n",
       "    }\n",
       "\n",
       "    .dataframe tbody tr th {\n",
       "        vertical-align: top;\n",
       "    }\n",
       "\n",
       "    .dataframe thead th {\n",
       "        text-align: right;\n",
       "    }\n",
       "</style>\n",
       "<table border=\"1\" class=\"dataframe\">\n",
       "  <thead>\n",
       "    <tr style=\"text-align: right;\">\n",
       "      <th></th>\n",
       "      <th>totalprice</th>\n",
       "      <th>unitprice</th>\n",
       "      <th>position</th>\n",
       "      <th>size</th>\n",
       "      <th>orientation</th>\n",
       "      <th>decoration</th>\n",
       "      <th>elevator</th>\n",
       "      <th>area</th>\n",
       "      <th>height</th>\n",
       "      <th>year</th>\n",
       "      <th>buildtype</th>\n",
       "      <th>follow</th>\n",
       "      <th>city</th>\n",
       "      <th>main_room</th>\n",
       "      <th>sub_room</th>\n",
       "    </tr>\n",
       "  </thead>\n",
       "  <tbody>\n",
       "    <tr>\n",
       "      <th>0</th>\n",
       "      <td>920.0</td>\n",
       "      <td>77188</td>\n",
       "      <td>天悦龙庭二期</td>\n",
       "      <td>119.19</td>\n",
       "      <td>西南</td>\n",
       "      <td>3</td>\n",
       "      <td>1</td>\n",
       "      <td>宝安中心</td>\n",
       "      <td>0</td>\n",
       "      <td>24</td>\n",
       "      <td>0</td>\n",
       "      <td>13</td>\n",
       "      <td>1</td>\n",
       "      <td>3</td>\n",
       "      <td>2</td>\n",
       "    </tr>\n",
       "    <tr>\n",
       "      <th>1</th>\n",
       "      <td>340.0</td>\n",
       "      <td>51909</td>\n",
       "      <td>大益广场</td>\n",
       "      <td>65.50</td>\n",
       "      <td>西南</td>\n",
       "      <td>3</td>\n",
       "      <td>1</td>\n",
       "      <td>西乡</td>\n",
       "      <td>1</td>\n",
       "      <td>21</td>\n",
       "      <td>1</td>\n",
       "      <td>160</td>\n",
       "      <td>1</td>\n",
       "      <td>2</td>\n",
       "      <td>2</td>\n",
       "    </tr>\n",
       "    <tr>\n",
       "      <th>2</th>\n",
       "      <td>660.0</td>\n",
       "      <td>73884</td>\n",
       "      <td>中熙香缇湾</td>\n",
       "      <td>89.33</td>\n",
       "      <td>西南</td>\n",
       "      <td>3</td>\n",
       "      <td>1</td>\n",
       "      <td>西乡</td>\n",
       "      <td>0</td>\n",
       "      <td>28</td>\n",
       "      <td>1</td>\n",
       "      <td>226</td>\n",
       "      <td>1</td>\n",
       "      <td>4</td>\n",
       "      <td>2</td>\n",
       "    </tr>\n",
       "    <tr>\n",
       "      <th>3</th>\n",
       "      <td>1150.0</td>\n",
       "      <td>76657</td>\n",
       "      <td>深业新岸线三期</td>\n",
       "      <td>150.02</td>\n",
       "      <td>东南</td>\n",
       "      <td>3</td>\n",
       "      <td>1</td>\n",
       "      <td>宝安中心</td>\n",
       "      <td>0</td>\n",
       "      <td>27</td>\n",
       "      <td>0</td>\n",
       "      <td>29</td>\n",
       "      <td>1</td>\n",
       "      <td>4</td>\n",
       "      <td>1</td>\n",
       "    </tr>\n",
       "    <tr>\n",
       "      <th>4</th>\n",
       "      <td>570.0</td>\n",
       "      <td>52127</td>\n",
       "      <td>碧海富通城一期</td>\n",
       "      <td>109.35</td>\n",
       "      <td>南</td>\n",
       "      <td>3</td>\n",
       "      <td>1</td>\n",
       "      <td>碧海</td>\n",
       "      <td>0</td>\n",
       "      <td>25</td>\n",
       "      <td>1</td>\n",
       "      <td>54</td>\n",
       "      <td>1</td>\n",
       "      <td>3</td>\n",
       "      <td>2</td>\n",
       "    </tr>\n",
       "  </tbody>\n",
       "</table>\n",
       "</div>"
      ],
      "text/plain": [
       "   totalprice  unitprice  position    size orientation  decoration  elevator  \\\n",
       "0       920.0      77188   天悦龙庭二期   119.19          西南           3         1   \n",
       "1       340.0      51909     大益广场    65.50          西南           3         1   \n",
       "2       660.0      73884    中熙香缇湾    89.33          西南           3         1   \n",
       "3      1150.0      76657  深业新岸线三期   150.02          东南           3         1   \n",
       "4       570.0      52127  碧海富通城一期   109.35           南           3         1   \n",
       "\n",
       "   area  height  year  buildtype  follow  city  main_room  sub_room  \n",
       "0  宝安中心       0    24          0      13     1          3         2  \n",
       "1    西乡       1    21          1     160     1          2         2  \n",
       "2    西乡       0    28          1     226     1          4         2  \n",
       "3  宝安中心       0    27          0      29     1          4         1  \n",
       "4    碧海       0    25          1      54     1          3         2  "
      ]
     },
     "execution_count": 31,
     "metadata": {},
     "output_type": "execute_result"
    }
   ],
   "source": [
    "# X['orientation'] = orientation\n",
    "house['elevator'] = elevator\n",
    "house['height'] = height\n",
    "house['year'] = year\n",
    "house['buildtype'] = buildtype\n",
    "house['city'] = city\n",
    "house['decoration'] = decoration\n",
    "# X['rooms'] = rooms\n",
    "house.head()"
   ]
  },
  {
   "cell_type": "code",
   "execution_count": 32,
   "metadata": {},
   "outputs": [
    {
     "data": {
      "image/png": "[encoded data removed]",
      "text/plain": [
       "<Figure size 1440x648 with 2 Axes>"
      ]
     },
     "metadata": {
      "needs_background": "light"
     },
     "output_type": "display_data"
    }
   ],
   "source": [
    "corrmat = house.corr()\n",
    "f, ax = plt.subplots(figsize=(20, 9))\n",
    "sns.heatmap(corrmat, vmax=0.8, square=True)\n",
    "plt.savefig('相关热力图-编码后.svg',format='svg')"
   ]
  },
  {
   "cell_type": "code",
   "execution_count": 33,
   "metadata": {},
   "outputs": [
    {
     "data": {
      "image/png": "[encoded data removed]",
      "text/plain": [
       "<Figure size 432x288 with 2 Axes>"
      ]
     },
     "metadata": {},
     "output_type": "display_data"
    }
   ],
   "source": [
    "k  = 10 # 关系矩阵中将显示10个特征\n",
    "cols = corrmat.nlargest(k, 'totalprice')['totalprice'].index\n",
    "cm = np.corrcoef(house[cols].values.T)\n",
    "sns.set(font_scale=1.25)\n",
    "hm = sns.heatmap(cm, cbar=True, annot=True, \\\n",
    "                 square=True, fmt='.2f', annot_kws={'size': 10}, yticklabels=cols.values, xticklabels=cols.values)\n",
    "plt.savefig('降序相关热力图.svg',format='svg')"
   ]
  },
  {
   "cell_type": "code",
   "execution_count": 28,
   "metadata": {},
   "outputs": [
    {
     "data": {
      "text/html": [
       "<div>\n",
       "<style scoped>\n",
       "    .dataframe tbody tr th:only-of-type {\n",
       "        vertical-align: middle;\n",
       "    }\n",
       "\n",
       "    .dataframe tbody tr th {\n",
       "        vertical-align: top;\n",
       "    }\n",
       "\n",
       "    .dataframe thead th {\n",
       "        text-align: right;\n",
       "    }\n",
       "</style>\n",
       "<table border=\"1\" class=\"dataframe\">\n",
       "  <thead>\n",
       "    <tr style=\"text-align: right;\">\n",
       "      <th></th>\n",
       "      <th>size</th>\n",
       "      <th>main_room</th>\n",
       "      <th>sub_room</th>\n",
       "      <th>year</th>\n",
       "      <th>elevator</th>\n",
       "      <th>decoration</th>\n",
       "    </tr>\n",
       "  </thead>\n",
       "  <tbody>\n",
       "    <tr>\n",
       "      <th>0</th>\n",
       "      <td>119.19</td>\n",
       "      <td>3</td>\n",
       "      <td>2</td>\n",
       "      <td>24</td>\n",
       "      <td>1</td>\n",
       "      <td>3</td>\n",
       "    </tr>\n",
       "    <tr>\n",
       "      <th>1</th>\n",
       "      <td>65.50</td>\n",
       "      <td>2</td>\n",
       "      <td>2</td>\n",
       "      <td>21</td>\n",
       "      <td>1</td>\n",
       "      <td>3</td>\n",
       "    </tr>\n",
       "    <tr>\n",
       "      <th>2</th>\n",
       "      <td>89.33</td>\n",
       "      <td>4</td>\n",
       "      <td>2</td>\n",
       "      <td>28</td>\n",
       "      <td>1</td>\n",
       "      <td>3</td>\n",
       "    </tr>\n",
       "    <tr>\n",
       "      <th>3</th>\n",
       "      <td>150.02</td>\n",
       "      <td>4</td>\n",
       "      <td>1</td>\n",
       "      <td>27</td>\n",
       "      <td>1</td>\n",
       "      <td>3</td>\n",
       "    </tr>\n",
       "    <tr>\n",
       "      <th>4</th>\n",
       "      <td>109.35</td>\n",
       "      <td>3</td>\n",
       "      <td>2</td>\n",
       "      <td>25</td>\n",
       "      <td>1</td>\n",
       "      <td>3</td>\n",
       "    </tr>\n",
       "    <tr>\n",
       "      <th>5</th>\n",
       "      <td>118.25</td>\n",
       "      <td>3</td>\n",
       "      <td>2</td>\n",
       "      <td>28</td>\n",
       "      <td>1</td>\n",
       "      <td>2</td>\n",
       "    </tr>\n",
       "    <tr>\n",
       "      <th>6</th>\n",
       "      <td>30.87</td>\n",
       "      <td>1</td>\n",
       "      <td>1</td>\n",
       "      <td>28</td>\n",
       "      <td>1</td>\n",
       "      <td>3</td>\n",
       "    </tr>\n",
       "    <tr>\n",
       "      <th>7</th>\n",
       "      <td>93.60</td>\n",
       "      <td>3</td>\n",
       "      <td>2</td>\n",
       "      <td>20</td>\n",
       "      <td>1</td>\n",
       "      <td>0</td>\n",
       "    </tr>\n",
       "    <tr>\n",
       "      <th>8</th>\n",
       "      <td>50.62</td>\n",
       "      <td>2</td>\n",
       "      <td>1</td>\n",
       "      <td>26</td>\n",
       "      <td>1</td>\n",
       "      <td>0</td>\n",
       "    </tr>\n",
       "    <tr>\n",
       "      <th>9</th>\n",
       "      <td>87.20</td>\n",
       "      <td>3</td>\n",
       "      <td>2</td>\n",
       "      <td>8</td>\n",
       "      <td>0</td>\n",
       "      <td>0</td>\n",
       "    </tr>\n",
       "  </tbody>\n",
       "</table>\n",
       "</div>"
      ],
      "text/plain": [
       "     size  main_room  sub_room  year  elevator  decoration\n",
       "0  119.19          3         2    24         1           3\n",
       "1   65.50          2         2    21         1           3\n",
       "2   89.33          4         2    28         1           3\n",
       "3  150.02          4         1    27         1           3\n",
       "4  109.35          3         2    25         1           3\n",
       "5  118.25          3         2    28         1           2\n",
       "6   30.87          1         1    28         1           3\n",
       "7   93.60          3         2    20         1           0\n",
       "8   50.62          2         1    26         1           0\n",
       "9   87.20          3         2     8         0           0"
      ]
     },
     "execution_count": 28,
     "metadata": {},
     "output_type": "execute_result"
    }
   ],
   "source": [
    "col = ['size', 'main_room', 'sub_room', 'year', 'elevator', 'decoration']\n",
    "X = pd.DataFrame(house, columns=col)\n",
    "X.head(10)"
   ]
  },
  {
   "cell_type": "code",
   "execution_count": 29,
   "metadata": {},
   "outputs": [
    {
     "data": {
      "text/plain": [
       "array([[0.21813266, 0.25      , 0.5       , 0.66666667, 1.        ,\n",
       "        1.        ],\n",
       "       [0.10384026, 0.125     , 0.5       , 0.58333333, 1.        ,\n",
       "        1.        ],\n",
       "       [0.15456829, 0.375     , 0.5       , 0.77777778, 1.        ,\n",
       "        1.        ],\n",
       "       ...,\n",
       "       [0.06469261, 0.        , 0.25      , 0.83333333, 1.        ,\n",
       "        0.        ],\n",
       "       [0.04583191, 0.        , 0.        , 0.69444444, 1.        ,\n",
       "        0.        ],\n",
       "       [0.12012517, 0.125     , 0.25      , 0.75      , 1.        ,\n",
       "        0.        ]])"
      ]
     },
     "execution_count": 29,
     "metadata": {},
     "output_type": "execute_result"
    }
   ],
   "source": [
    "# 归一化操作\n",
    "from sklearn.preprocessing import MinMaxScaler\n",
    "MinMaxTransformer=MinMaxScaler()\n",
    "MinMaxTransformer.fit(X)\n",
    "X_transformed=MinMaxTransformer.transform(X)\n",
    "X_transformed"
   ]
  },
  {
   "cell_type": "code",
   "execution_count": 30,
   "metadata": {},
   "outputs": [],
   "source": [
    "from sklearn.model_selection import train_test_split\n",
    "X_train, X_test, y_train, y_test=train_test_split(X_transformed, totalprice, random_state=14)"
   ]
  },
  {
   "cell_type": "code",
   "execution_count": 31,
   "metadata": {},
   "outputs": [
    {
     "data": {
      "text/plain": [
       "array([[250.],\n",
       "       [800.],\n",
       "       [390.],\n",
       "       ...,\n",
       "       [665.],\n",
       "       [115.],\n",
       "       [410.]])"
      ]
     },
     "execution_count": 31,
     "metadata": {},
     "output_type": "execute_result"
    }
   ],
   "source": [
    "import numpy as np\n",
    "Xtrain = np.array(X_train)\n",
    "ytrain = np.array(y_train)\n",
    "ytrain"
   ]
  },
  {
   "cell_type": "code",
   "execution_count": 32,
   "metadata": {},
   "outputs": [
    {
     "name": "stderr",
     "output_type": "stream",
     "text": [
      "C:\\Users\\HASEE\\Anaconda3\\lib\\site-packages\\sklearn\\ensemble\\weight_boosting.py:29: DeprecationWarning: numpy.core.umath_tests is an internal NumPy module and should not be imported. It will be removed in a future NumPy release.\n",
      "  from numpy.core.umath_tests import inner1d\n",
      "C:\\Users\\HASEE\\Anaconda3\\lib\\site-packages\\ipykernel_launcher.py:5: DataConversionWarning: A column-vector y was passed when a 1d array was expected. Please change the shape of y to (n_samples,), for example using ravel().\n",
      "  \"\"\"\n"
     ]
    }
   ],
   "source": [
    "import numpy as np\n",
    "from sklearn.ensemble import RandomForestRegressor\n",
    "\n",
    "rf=RandomForestRegressor(n_estimators=400)\n",
    "rf.fit(X_train, y_train.astype('int'))\n",
    "predict_y=rf.predict((X_test))\n",
    "\n",
    "count = 0\n",
    "acc_count = 0\n",
    "total_error = 0"
   ]
  },
  {
   "cell_type": "code",
   "execution_count": 33,
   "metadata": {},
   "outputs": [],
   "source": [
    "y_test = y_test['totalprice'].tolist()\n",
    "predict_y = predict_y.tolist()"
   ]
  },
  {
   "cell_type": "code",
   "execution_count": 34,
   "metadata": {},
   "outputs": [],
   "source": [
    "for y in y_test:\n",
    "    error = np.abs(predict_y[count] - y)\n",
    "    total_error += error\n",
    "    count += 1\n",
    "wc = total_error / (count+1)"
   ]
  },
  {
   "cell_type": "code",
   "execution_count": 35,
   "metadata": {},
   "outputs": [
    {
     "data": {
      "text/plain": [
       "143.11920592096365"
      ]
     },
     "execution_count": 35,
     "metadata": {},
     "output_type": "execute_result"
    }
   ],
   "source": [
    "# 平均误差值\n",
    "wc"
   ]
  },
  {
   "cell_type": "code",
   "execution_count": null,
   "metadata": {},
   "outputs": [],
   "source": []
  }
 ],
 "metadata": {
  "kernelspec": {
   "display_name": "Python 3",
   "language": "python",
   "name": "python3"
  },
  "language_info": {
   "codemirror_mode": {
    "name": "ipython",
    "version": 3
   },
   "file_extension": ".py",
   "mimetype": "text/x-python",
   "name": "python",
   "nbconvert_exporter": "python",
   "pygments_lexer": "ipython3",
   "version": "3.6.6"
  }
 },
 "nbformat": 4,
 "nbformat_minor": 2
}
